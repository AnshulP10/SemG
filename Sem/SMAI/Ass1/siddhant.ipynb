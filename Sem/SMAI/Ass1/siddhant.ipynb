{
 "cells": [
  {
   "cell_type": "markdown",
   "metadata": {},
   "source": [
    "Question1"
   ]
  },
  {
   "cell_type": "code",
   "execution_count": 56,
   "metadata": {},
   "outputs": [],
   "source": [
    "import numpy as np\n",
    "from numpy import linalg"
   ]
  },
  {
   "cell_type": "code",
   "execution_count": 57,
   "metadata": {},
   "outputs": [],
   "source": [
    "p0=np.array((1,1))\n",
    "p1=np.array((2,2))\n",
    "p=np.array((-1,1))"
   ]
  },
  {
   "cell_type": "code",
   "execution_count": 58,
   "metadata": {},
   "outputs": [
    {
     "data": {
      "text/plain": [
       "1.414213562373095"
      ]
     },
     "execution_count": 58,
     "metadata": {},
     "output_type": "execute_result"
    }
   ],
   "source": [
    "abs(np.cross(p1-p0,p0-p))/linalg.norm(p1-p0)"
   ]
  },
  {
   "cell_type": "markdown",
   "metadata": {},
   "source": [
    "Question2"
   ]
  },
  {
   "cell_type": "code",
   "execution_count": 59,
   "metadata": {},
   "outputs": [],
   "source": [
    "import matplotlib.pyplot as plt"
   ]
  },
  {
   "cell_type": "code",
   "execution_count": 60,
   "metadata": {},
   "outputs": [],
   "source": [
    "def find_POI(p0,p1,p):\n",
    "    lin=np.vstack([p,p1,p0])\n",
    "    lin=np.hstack([lin,np.ones([3,1])])\n",
    "    lin = linalg.det(lin)/np.dot(p1-p0,p1-p0)\n",
    "    a = -lin*(p0[0]-p1[0])+p[1] \n",
    "    b = -lin*(p1[1]-p0[1])+p[0]   \n",
    "    return np.array((a,b))"
   ]
  },
  {
   "cell_type": "code",
   "execution_count": 61,
   "metadata": {},
   "outputs": [],
   "source": [
    "def segment_plot(p0, p1, p):\n",
    "    POI=find_POI(p0,p1,p)\n",
    "    plt.axis(\"equal\")\n",
    "    plt.plot(p[0],p[1],'go',label='Pt')\n",
    "    plt.plot([p[0],POI[0]],[p[1],POI[1]],label='Othogonal Segment')\n",
    "    plt.plot([p0[0],p1[0]],[p0[1],p1[1]],label='Original Line Segment')\n",
    "    plt.legend(loc='best')\n",
    "    plt.annotate(\"p\", p)\n",
    "    plt.annotate(\"p1\", p1)\n",
    "    plt.annotate(\"p0\", p0)"
   ]
  },
  {
   "cell_type": "code",
   "execution_count": 62,
   "metadata": {},
   "outputs": [
    {
     "data": {
      "image/png": "[encoded data removed]",
      "text/plain": [
       "<Figure size 432x288 with 1 Axes>"
      ]
     },
     "metadata": {
      "needs_background": "light"
     },
     "output_type": "display_data"
    }
   ],
   "source": [
    "segment_plot(p0,p1,p)"
   ]
  },
  {
   "cell_type": "code",
   "execution_count": null,
   "metadata": {},
   "outputs": [],
   "source": []
  }
 ],
 "metadata": {
  "kernelspec": {
   "display_name": "Python 3",
   "language": "python",
   "name": "python3"
  },
  "language_info": {
   "codemirror_mode": {
    "name": "ipython",
    "version": 3
   },
   "file_extension": ".py",
   "mimetype": "text/x-python",
   "name": "python",
   "nbconvert_exporter": "python",
   "pygments_lexer": "ipython3",
   "version": "3.8.3"
  }
 },
 "nbformat": 4,
 "nbformat_minor": 4
}
