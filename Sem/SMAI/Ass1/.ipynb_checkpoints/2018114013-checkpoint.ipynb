{
 "cells": [
  {
   "cell_type": "code",
   "execution_count": null,
   "metadata": {},
   "outputs": [],
   "source": []
  },
  {
   "cell_type": "markdown",
   "metadata": {},
   "source": [
    "### Question1"
   ]
  },
  {
   "cell_type": "code",
   "execution_count": 55,
   "metadata": {},
   "outputs": [],
   "source": [
    "import numpy as np\n",
    "from numpy import linalg"
   ]
  },
  {
   "cell_type": "code",
   "execution_count": 56,
   "metadata": {},
   "outputs": [],
   "source": [
    "def orthogonal_distance(p0,p1,p):\n",
    "    return abs(np.cross(p1-p0,p0-p))/linalg.norm(p1-p0)"
   ]
  },
  {
   "cell_type": "code",
   "execution_count": 63,
   "metadata": {},
   "outputs": [],
   "source": [
    "p0=np.array((1,1))\n",
    "p1=np.array((2,2))\n",
    "p=np.array((-1,1))"
   ]
  },
  {
   "cell_type": "code",
   "execution_count": 58,
   "metadata": {},
   "outputs": [
    {
     "data": {
      "text/plain": [
       "1.212678125181665"
      ]
     },
     "execution_count": 58,
     "metadata": {},
     "output_type": "execute_result"
    }
   ],
   "source": [
    "orthogonal_distance(p0,p1,p)"
   ]
  },
  {
   "cell_type": "markdown",
   "metadata": {},
   "source": [
    "### Question2"
   ]
  },
  {
   "cell_type": "code",
   "execution_count": 64,
   "metadata": {},
   "outputs": [],
   "source": [
    "import matplotlib.pyplot as plt"
   ]
  },
  {
   "cell_type": "code",
   "execution_count": 78,
   "metadata": {},
   "outputs": [],
   "source": [
    "def find_POI(p0,p1,p):\n",
    "    eq=np.vstack([p,p1,p0])\n",
    "    eq=np.hstack([eq,np.ones([3,1])])\n",
    "    eq = linalg.det(eq)/np.dot(p1-p0,p1-p0)\n",
    "    x = -eq*(p1[1]-p0[1])+p[0]\n",
    "    y = -eq*(p0[0]-p1[0])+p[1]    \n",
    "    return np.array((x,y)) "
   ]
  },
  {
   "cell_type": "code",
   "execution_count": 81,
   "metadata": {},
   "outputs": [],
   "source": [
    "def plot_line_segment(p0, p1, p):\n",
    "    POI=find_POI(p0,p1,p)\n",
    "    plt.axis(\"equal\")\n",
    "    plt.plot([p0[0],p1[0]],[p0[1],p1[1]],label='Given Line')\n",
    "    plt.plot(p[0],p[1],'go',label='Point')\n",
    "    plt.plot([p[0],POI[0]],[p[1],POI[1]],label=\"Orthogonal Line\")\n",
    "    plt.legend(loc='best')\n",
    "    plt.annotate(\"p0\", p0)\n",
    "    plt.annotate(\"p1\", p1)\n",
    "    plt.annotate(\"p\", p)"
   ]
  },
  {
   "cell_type": "code",
   "execution_count": 82,
   "metadata": {},
   "outputs": [
    {
     "data": {
      "image/png": "[encoded data removed]",
      "text/plain": [
       "<Figure size 432x288 with 1 Axes>"
      ]
     },
     "metadata": {
      "needs_background": "light"
     },
     "output_type": "display_data"
    }
   ],
   "source": [
    "plot_line_segment(p0,p1,p)"
   ]
  }
 ],
 "metadata": {
  "kernelspec": {
   "display_name": "Python 3",
   "language": "python",
   "name": "python3"
  },
  "language_info": {
   "codemirror_mode": {
    "name": "ipython",
    "version": 3
   },
   "file_extension": ".py",
   "mimetype": "text/x-python",
   "name": "python",
   "nbconvert_exporter": "python",
   "pygments_lexer": "ipython3",
   "version": "3.8.3"
  }
 },
 "nbformat": 4,
 "nbformat_minor": 4
}
