{
 "cells": [
  {
   "cell_type": "markdown",
   "metadata": {},
   "source": [
    "Question1"
   ]
  },
  {
   "cell_type": "code",
   "execution_count": 30,
   "metadata": {},
   "outputs": [],
   "source": [
    "import numpy as np\n",
    "from numpy import linalg"
   ]
  },
  {
   "cell_type": "code",
   "execution_count": 31,
   "metadata": {},
   "outputs": [],
   "source": [
    "def orthogonal_distance(p0,p1,p):\n",
    "    return abs(np.cross(p1-p0,p0-p))/linalg.norm(p1-p0)"
   ]
  },
  {
   "cell_type": "code",
   "execution_count": 32,
   "metadata": {},
   "outputs": [],
   "source": [
    "p0=np.array((3,4))\n",
    "p1=np.array((1,5))\n",
    "p=np.array((2,7))"
   ]
  },
  {
   "cell_type": "code",
   "execution_count": 33,
   "metadata": {},
   "outputs": [
    {
     "data": {
      "text/plain": [
       "2.23606797749979"
      ]
     },
     "execution_count": 33,
     "metadata": {},
     "output_type": "execute_result"
    }
   ],
   "source": [
    "orthogonal_distance(p0,p1,p)"
   ]
  },
  {
   "cell_type": "markdown",
   "metadata": {},
   "source": [
    "Question2"
   ]
  },
  {
   "cell_type": "code",
   "execution_count": 34,
   "metadata": {},
   "outputs": [],
   "source": [
    "import matplotlib.pyplot as plt"
   ]
  },
  {
   "cell_type": "code",
   "execution_count": 35,
   "metadata": {},
   "outputs": [],
   "source": [
    "def find_POI(p0,p1,p):\n",
    "    eq=np.vstack([p,p1,p0])\n",
    "    eq=np.hstack([eq,np.ones([3,1])])\n",
    "    eq = linalg.det(eq)/np.dot(p1-p0,p1-p0)\n",
    "    y = -eq*(p0[0]-p1[0])+p[1] \n",
    "    x = -eq*(p1[1]-p0[1])+p[0]   \n",
    "    return np.array((x,y))"
   ]
  },
  {
   "cell_type": "code",
   "execution_count": 36,
   "metadata": {},
   "outputs": [],
   "source": [
    "def plot_line_segment(p0, p1, p):\n",
    "    POI=find_POI(p0,p1,p)\n",
    "    plt.axis(\"equal\")\n",
    "    plt.plot(p[0],p[1],'go',label='Pt')\n",
    "    plt.plot([p[0],POI[0]],[p[1],POI[1]],label=\"Othogonal Segment\")\n",
    "    plt.plot([p0[0],p1[0]],[p0[1],p1[1]],label='Orignial Line Segment')\n",
    "    plt.legend(loc='best')\n",
    "    plt.annotate(\"p\", p)\n",
    "    plt.annotate(\"p1\", p1)\n",
    "    plt.annotate(\"p0\", p0)"
   ]
  },
  {
   "cell_type": "code",
   "execution_count": 37,
   "metadata": {},
   "outputs": [
    {
     "data": {
      "image/png": "[encoded data removed]",
      "text/plain": [
       "<Figure size 432x288 with 1 Axes>"
      ]
     },
     "metadata": {
      "needs_background": "light"
     },
     "output_type": "display_data"
    }
   ],
   "source": [
    "plot_line_segment(p0,p1,p)"
   ]
  },
  {
   "cell_type": "code",
   "execution_count": null,
   "metadata": {},
   "outputs": [],
   "source": []
  }
 ],
 "metadata": {
  "kernelspec": {
   "display_name": "Python 3",
   "language": "python",
   "name": "python3"
  },
  "language_info": {
   "codemirror_mode": {
    "name": "ipython",
    "version": 3
   },
   "file_extension": ".py",
   "mimetype": "text/x-python",
   "name": "python",
   "nbconvert_exporter": "python",
   "pygments_lexer": "ipython3",
   "version": "3.8.3"
  }
 },
 "nbformat": 4,
 "nbformat_minor": 4
}
