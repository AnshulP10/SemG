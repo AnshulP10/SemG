{
 "cells": [
  {
   "cell_type": "markdown",
   "metadata": {},
   "source": [
    "# NumPy Exercise\n",
    "Consider two sets of points p0 and p1 describing a line in a 2-Dimensional (2D)\n",
    "plane. Consider an arbitrary point p in 2D.\n",
    "1. Compute the orthogonal distance between the point p and the the line\n",
    "segment joining the points p0 and p1.\n",
    "2. Plot the line segment joining the points p0 and p1, the point p and the\n",
    "orthogonal distance between the point and the line segment."
   ]
  },
  {
   "cell_type": "code",
   "execution_count": 2,
   "metadata": {},
   "outputs": [],
   "source": [
    "import numpy as np\n",
    "import matplotlib.pyplot as plt"
   ]
  },
  {
   "cell_type": "code",
   "execution_count": 8,
   "metadata": {},
   "outputs": [],
   "source": [
    "def orth(p0, p1, p):\n",
    "    d = np.linalg.norm(np.cross(p1-p0, p0-p))/np.linalg.norm(p1-p0)\n",
    "    return d"
   ]
  },
  {
   "cell_type": "code",
   "execution_count": 1,
   "metadata": {},
   "outputs": [],
   "source": [
    "def plot(p0, p1, p):\n",
    "    plt.plot([p0[0], p1[0]], [p0[1], p1[1]])\n",
    "    plt.plot([p[0],], [p[1], ])\n",
    "    plt.annotate(\"p0\", p0)\n",
    "    plt.annotate(\"p1\", p1)\n",
    "    plt.annotate(\"p\", p)\n",
    "    return"
   ]
  }
 ],
 "metadata": {
  "kernelspec": {
   "display_name": "Python 3",
   "language": "python",
   "name": "python3"
  },
  "language_info": {
   "codemirror_mode": {
    "name": "ipython",
    "version": 3
   },
   "file_extension": ".py",
   "mimetype": "text/x-python",
   "name": "python",
   "nbconvert_exporter": "python",
   "pygments_lexer": "ipython3",
   "version": "3.8.3"
  }
 },
 "nbformat": 4,
 "nbformat_minor": 4
}
